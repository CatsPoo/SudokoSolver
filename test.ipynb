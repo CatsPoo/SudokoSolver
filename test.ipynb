{
 "cells": [
  {
   "cell_type": "code",
   "execution_count": null,
   "metadata": {},
   "outputs": [],
   "source": [
    "import os\n",
    "import pandas as pd\n",
    "import DigitRecognizer.DigitRecognizerModelTrainer as dr"
   ]
  },
  {
   "cell_type": "code",
   "execution_count": null,
   "metadata": {},
   "outputs": [],
   "source": [
    "df = df = dr.build_dataset(os.path.join('DigitRecognizer','assets'))"
   ]
  },
  {
   "cell_type": "code",
   "execution_count": null,
   "metadata": {},
   "outputs": [],
   "source": [
    "\n",
    "pipes = dr.generate_piplines_from_classifiers_list(dr.classifiers)\n",
    "    \n",
    "for pipe in pipes:\n",
    "    pipe.fit_transform(df[dr.IMAGE_PATH],df[dr.NUMBER])\n",
    "\n"
   ]
  }
 ],
 "metadata": {
  "kernelspec": {
   "display_name": "venv",
   "language": "python",
   "name": "python3"
  },
  "language_info": {
   "name": "python",
   "version": "3.12.1"
  }
 },
 "nbformat": 4,
 "nbformat_minor": 2
}
